{
 "cells": [
  {
   "cell_type": "code",
   "execution_count": 6,
   "metadata": {},
   "outputs": [
    {
     "name": "stdout",
     "output_type": "stream",
     "text": [
      "RGB Image\n"
     ]
    }
   ],
   "source": [
    "import numpy as np\n",
    "import cv2\n",
    "\n",
    "def img_to_array(path):\n",
    "    # Read the image using OpenCV\n",
    "    img = cv2.imread(path)\n",
    "\n",
    "    # Check if the image is RGB or Grey Scale\n",
    "    if len(img.shape) == 3:\n",
    "        # RGB image\n",
    "        print(\"RGB Image\")\n",
    "        # Reshape the image array to 1D\n",
    "        img_array = img.reshape(-1, 3)\n",
    "    else:\n",
    "        # Grey Scale image\n",
    "        print(\"Grey Scale Image\")\n",
    "        # Reshape the image array to 1D\n",
    "        img_array = img.reshape(-1)\n",
    "\n",
    "    # Save the image shape and array to a text file\n",
    "    with open('image_array.txt', 'w') as f:\n",
    "        f.write(f\"{img.shape[0]} {img.shape[1]}\\n\")\n",
    "        #without channel \n",
    "        #(256,256,3)\n",
    "        #--> 256 25\n",
    "        np.savetxt(f, img_array, fmt='%d')\n",
    "\n",
    "# Example usage\n",
    "img_to_array('nature_bg.jpg')"
   ]
  }
 ],
 "metadata": {
  "kernelspec": {
   "display_name": "Python 3",
   "language": "python",
   "name": "python3"
  },
  "language_info": {
   "codemirror_mode": {
    "name": "ipython",
    "version": 3
   },
   "file_extension": ".py",
   "mimetype": "text/x-python",
   "name": "python",
   "nbconvert_exporter": "python",
   "pygments_lexer": "ipython3",
   "version": "3.12.2"
  }
 },
 "nbformat": 4,
 "nbformat_minor": 2
}
